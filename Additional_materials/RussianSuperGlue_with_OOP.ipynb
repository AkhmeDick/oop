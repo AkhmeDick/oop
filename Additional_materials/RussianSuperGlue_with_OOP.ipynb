{
  "nbformat": 4,
  "nbformat_minor": 0,
  "metadata": {
    "colab": {
      "name": "RussianSuperGlue-with-OOP.ipynb",
      "provenance": []
    },
    "kernelspec": {
      "name": "python3",
      "display_name": "Python 3"
    },
    "accelerator": "GPU"
  },
  "cells": [
    {
      "cell_type": "markdown",
      "metadata": {
        "id": "v5vrtzgPWmtW"
      },
      "source": [
        "About today's task background\n",
        "\n",
        "1.   [GLUE](https://gluebenchmark.com/)\n",
        "2.   [SUPER GLUE](https://super.gluebenchmark.com/)\n",
        "3.   [RUSSIAN SUPER GLUE](https://russiansuperglue.com/) \n",
        "\n",
        "\n"
      ]
    },
    {
      "cell_type": "code",
      "metadata": {
        "colab": {
          "base_uri": "https://localhost:8080/"
        },
        "id": "9m5QdJy-BmBy",
        "outputId": "db2b5c31-e6c0-4438-fb45-a929a13f9821"
      },
      "source": [
        "!pip install ipymarkup\n",
        "!pip install transformers"
      ],
      "execution_count": null,
      "outputs": [
        {
          "output_type": "stream",
          "text": [
            "Requirement already satisfied: ipymarkup in /usr/local/lib/python3.6/dist-packages (0.9.0)\n",
            "Requirement already satisfied: intervaltree>=3 in /usr/local/lib/python3.6/dist-packages (from ipymarkup) (3.1.0)\n",
            "Requirement already satisfied: sortedcontainers<3.0,>=2.0 in /usr/local/lib/python3.6/dist-packages (from intervaltree>=3->ipymarkup) (2.3.0)\n"
          ],
          "name": "stdout"
        }
      ]
    },
    {
      "cell_type": "code",
      "metadata": {
        "id": "FhY7jKg7F8xi"
      },
      "source": [
        "# run once\n",
        "# !wget https://russiansuperglue.com/tasks/download/RUSSE\n",
        "# !mv RUSSE RUSSE.zip\n",
        "# !unzip RUSSE.zip"
      ],
      "execution_count": null,
      "outputs": []
    },
    {
      "cell_type": "code",
      "metadata": {
        "colab": {
          "base_uri": "https://localhost:8080/"
        },
        "id": "BO_KOxru_kKa",
        "outputId": "392c94f5-9023-4ac4-8bec-a8cad0603f3e"
      },
      "source": [
        "!head RUSSE/train.jsonl"
      ],
      "execution_count": null,
      "outputs": [
        {
          "output_type": "stream",
          "text": [
            "{\"idx\" : 0, \"word\" : \"двор\", \"sentence1\" : \"В нашей деревне осталось от силы двадцать дворов\", \"sentence2\" : \"Солнце стояло уже высоко, когда справа от дороги я увидел деревеньку дворов в пятнадцать\", \"start1\" : 42, \"end1\" : 49, \"start2\" : 69, \"end2\" : 76, \"label\" : true, \"gold_sense1\" : 1, \"gold_sense2\" : 1}\r\n",
            "{\"idx\" : 1, \"word\" : \"доклад\", \"sentence1\" : \"Табличка на дверях: «Без доклада не входить»\", \"sentence2\" : \"Вчера отбыл в столицу первый секретарь обкома […], вызванный то ли «на ковёр», то ли на сезонный доклад об урожае\", \"start1\" : 25, \"end1\" : 33, \"start2\" : 97, \"end2\" : 104, \"label\" : false, \"gold_sense1\" : 4, \"gold_sense2\" : 2}\r\n",
            "{\"idx\" : 2, \"word\" : \"засада\", \"sentence1\" : \"У нас вообще […] засада с героями, способными дотягивать в жизни до собственного творчества\", \"sentence2\" : \"Там в воскресенье все магазины закрыты – вот ведь засада!\", \"start1\" : 17, \"end1\" : 24, \"start2\" : 50, \"end2\" : 57, \"label\" : true, \"gold_sense1\" : 2, \"gold_sense2\" : 2}\r\n",
            "{\"idx\" : 3, \"word\" : \"доля\", \"sentence1\" : \"Он не успел сказать и десятой доли того, что собирался\", \"sentence2\" : \"Болезнь ее была странного свойства – […] что-то случилось с височными долями, отвечающими будто бы за чувство времени\", \"start1\" : 30, \"end1\" : 35, \"start2\" : 70, \"end2\" : 77, \"label\" : false, \"gold_sense1\" : 2, \"gold_sense2\" : 3}\r\n",
            "{\"idx\" : 4, \"word\" : \"закат\", \"sentence1\" : \"Теперь, если она не пойдет звонить мужу, успеет до заката к морю\", \"sentence2\" : \"Тридцать с лишним лет службы в органах, три развода, потерянная вера, одиночество на закате жизни, грошовая зарплата и отсутствие перспектив\", \"start1\" : 51, \"end1\" : 58, \"start2\" : 85, \"end2\" : 92, \"label\" : false, \"gold_sense1\" : 1, \"gold_sense2\" : 2}\r\n",
            "{\"idx\" : 5, \"word\" : \"демократия\", \"sentence1\" : \"Европейские демократии\", \"sentence2\" : \"Демократию Брюсов презирал. История культуры, которой он поклонялся, была для него историей «творцов», полубогов, стоящих вне толпы, ее презирающих, ею ненавидимых\", \"start1\" : 12, \"end1\" : 23, \"start2\" : 0, \"end2\" : 11, \"label\" : true, \"gold_sense1\" : 1, \"gold_sense2\" : 1}\r\n",
            "{\"idx\" : 6, \"word\" : \"заря\", \"sentence1\" : \"Заря новой эры\", \"sentence2\" : \"Розовый свет на красноватых, со смуглотой, древних кирпичных башнях. Кажется, свет зари поднимает их вверх\", \"start1\" : 0, \"end1\" : 5, \"start2\" : 83, \"end2\" : 88, \"label\" : false, \"gold_sense1\" : 2, \"gold_sense2\" : 1}\r\n",
            "{\"idx\" : 7, \"word\" : \"задержка\", \"sentence1\" : \"Задержка взгляда на собеседнике\", \"sentence2\" : \"Влияние курса валют на нас сказывается не сразу, а с задержкой\", \"start1\" : 0, \"end1\" : 9, \"start2\" : 53, \"end2\" : 63, \"label\" : false, \"gold_sense1\" : 1, \"gold_sense2\" : 6}\r\n",
            "{\"idx\" : 8, \"word\" : \"дорожка\", \"sentence1\" : \"Бурые ковровые дорожки заглушали шаги\", \"sentence2\" : \"Приятели решили выпить на дорожку в местном баре\", \"start1\" : 15, \"end1\" : 23, \"start2\" : 26, \"end2\" : 34, \"label\" : false, \"gold_sense1\" : 1, \"gold_sense2\" : 2}\r\n",
            "{\"idx\" : 9, \"word\" : \"задержка\", \"sentence1\" : \"Вскоре я почувствовал всю муторность этой процедуры [сбора финансовых документов о тратах] и проклял все на свете, поскольку за несколько дней вынужденной задержки в Катманду, кажется, только этим и занимался\", \"sentence2\" : \"Задержка месячных\", \"start1\" : 155, \"end1\" : 164, \"start2\" : 0, \"end2\" : 9, \"label\" : false, \"gold_sense1\" : 1, \"gold_sense2\" : 5}\r\n"
          ],
          "name": "stdout"
        }
      ]
    },
    {
      "cell_type": "code",
      "metadata": {
        "id": "uTiclo8xHjv7"
      },
      "source": [
        "import json\n",
        "import os\n",
        "\n",
        "class DataReader:\n",
        "\n",
        "  file_mapping = {\n",
        "      \"TRAIN\": \"train.jsonl\",\n",
        "      \"TEST\": \"test.jsonl\",\n",
        "      \"VALID\": \"val.jsonl\"\n",
        "  }\n",
        "\n",
        "  def __init__(self, dir_path):\n",
        "      self.train_samples = self.read_file(dir_path, \"TRAIN\")\n",
        "      self.test_samples = self.read_file(dir_path, \"TEST\")\n",
        "      self.valid_samples = self.read_file(dir_path, \"VALID\")\n",
        "\n",
        "  def read_file(self, dir_path, file_name):\n",
        "      file_path = os.path.join(dir_path, self.file_mapping[file_name])\n",
        "      jsonl_content = open(file_path).read()\n",
        "      samples = [json.loads(jline) for jline in jsonl_content.splitlines()]\n",
        "      print(f\"Number of samples - {len(samples)} - in {file_name} dataset \")\n",
        "      return samples"
      ],
      "execution_count": null,
      "outputs": []
    },
    {
      "cell_type": "code",
      "metadata": {
        "colab": {
          "base_uri": "https://localhost:8080/"
        },
        "id": "s7CqCr_8Jx7F",
        "outputId": "329bc364-5061-4a35-f1d0-35a1c61d3e3a"
      },
      "source": [
        "dr = DataReader(\"./RUSSE\")"
      ],
      "execution_count": null,
      "outputs": [
        {
          "output_type": "stream",
          "text": [
            "Number of samples - 19845 - in TRAIN dataset \n",
            "Number of samples - 18892 - in TEST dataset \n",
            "Number of samples - 8505 - in VALID dataset \n"
          ],
          "name": "stdout"
        }
      ]
    },
    {
      "cell_type": "code",
      "metadata": {
        "id": "_vXpknjtffiQ"
      },
      "source": [
        "import pandas as pd\n",
        "\n",
        "\n",
        "class DataProcessor:\n",
        "\n",
        "  sentence_keys = [\"sentence1\", \"sentence2\"]\n",
        "  word_key = \"word\"\n",
        "  target_label_key = \"label\"\n",
        "  \n",
        "  sentence_separator = \"\\n\"\n",
        "  dataframe_keys = [\"text\", \"labels\", \"word\"]\n",
        "\n",
        "  def __init__(self, samples):\n",
        "    self.text_data, self.target_labels, self.target_words = self.prepare_data(samples)\n",
        "\n",
        "  def prepare_data(self, samples):\n",
        "    sentences_pairs = []\n",
        "    labels = []\n",
        "    words = []\n",
        "    for indx, sample in enumerate(samples):\n",
        "      assert isinstance(sample, dict), \\\n",
        "       f\"type(sample) should be dict but sample #{indx} is {type(sample)}\"\n",
        "      sentences_pair = []\n",
        "      for sentence_key in self.sentence_keys:\n",
        "        sentences_pair.append(sample[sentence_key])\n",
        "      sentences_pair = self.sentence_separator.join(sentences_pair)\n",
        "      sentences_pairs.append(sentences_pair)\n",
        "      labels.append(sample.get(self.target_label_key))\n",
        "      words.append(sample.get(self.word_key))\n",
        "\n",
        "    return sentences_pairs, labels, words\n",
        "\n",
        "  def to_dataframe(self):\n",
        "    return pd.DataFrame({\n",
        "        self.dataframe_keys[0]: self.text_data,\n",
        "        self.dataframe_keys[1]: self.target_labels,\n",
        "        self.dataframe_keys[2]: self.target_words,\n",
        "        })\n",
        "        \n",
        "dp_train = DataProcessor(dr.train_samples).to_dataframe()\n",
        "dp_valid = DataProcessor(dr.valid_samples).to_dataframe()"
      ],
      "execution_count": null,
      "outputs": []
    },
    {
      "cell_type": "markdown",
      "metadata": {
        "id": "L7vldIKH2cUo"
      },
      "source": [
        "Значение лейбла у примера: \n",
        "\n",
        "* **True** если слово употреблено в двух предложениях в одном и том же значении\n",
        "* **False** если слово употреблено в двух предложениях в разных значениях"
      ]
    },
    {
      "cell_type": "code",
      "metadata": {
        "colab": {
          "base_uri": "https://localhost:8080/",
          "height": 407
        },
        "id": "3Wt-iN29kBNr",
        "outputId": "f2bd4fc2-3479-4c33-8fce-61e3761a8bc1"
      },
      "source": [
        "dp_train"
      ],
      "execution_count": null,
      "outputs": [
        {
          "output_type": "execute_result",
          "data": {
            "text/html": [
              "<div>\n",
              "<style scoped>\n",
              "    .dataframe tbody tr th:only-of-type {\n",
              "        vertical-align: middle;\n",
              "    }\n",
              "\n",
              "    .dataframe tbody tr th {\n",
              "        vertical-align: top;\n",
              "    }\n",
              "\n",
              "    .dataframe thead th {\n",
              "        text-align: right;\n",
              "    }\n",
              "</style>\n",
              "<table border=\"1\" class=\"dataframe\">\n",
              "  <thead>\n",
              "    <tr style=\"text-align: right;\">\n",
              "      <th></th>\n",
              "      <th>text</th>\n",
              "      <th>labels</th>\n",
              "      <th>word</th>\n",
              "    </tr>\n",
              "  </thead>\n",
              "  <tbody>\n",
              "    <tr>\n",
              "      <th>0</th>\n",
              "      <td>В нашей деревне осталось от силы двадцать двор...</td>\n",
              "      <td>True</td>\n",
              "      <td>двор</td>\n",
              "    </tr>\n",
              "    <tr>\n",
              "      <th>1</th>\n",
              "      <td>Табличка на дверях: «Без доклада не входить»\\n...</td>\n",
              "      <td>False</td>\n",
              "      <td>доклад</td>\n",
              "    </tr>\n",
              "    <tr>\n",
              "      <th>2</th>\n",
              "      <td>У нас вообще […] засада с героями, способными ...</td>\n",
              "      <td>True</td>\n",
              "      <td>засада</td>\n",
              "    </tr>\n",
              "    <tr>\n",
              "      <th>3</th>\n",
              "      <td>Он не успел сказать и десятой доли того, что с...</td>\n",
              "      <td>False</td>\n",
              "      <td>доля</td>\n",
              "    </tr>\n",
              "    <tr>\n",
              "      <th>4</th>\n",
              "      <td>Теперь, если она не пойдет звонить мужу, успее...</td>\n",
              "      <td>False</td>\n",
              "      <td>закат</td>\n",
              "    </tr>\n",
              "    <tr>\n",
              "      <th>...</th>\n",
              "      <td>...</td>\n",
              "      <td>...</td>\n",
              "      <td>...</td>\n",
              "    </tr>\n",
              "    <tr>\n",
              "      <th>19840</th>\n",
              "      <td>Что у вас есть из рыбных закусок?\\nПоявляются ...</td>\n",
              "      <td>True</td>\n",
              "      <td>закуска</td>\n",
              "    </tr>\n",
              "    <tr>\n",
              "      <th>19841</th>\n",
              "      <td>Рыбный дух за столетия пропитал темные каменны...</td>\n",
              "      <td>False</td>\n",
              "      <td>дух</td>\n",
              "    </tr>\n",
              "    <tr>\n",
              "      <th>19842</th>\n",
              "      <td>Васильки размножают делением корневищ и посево...</td>\n",
              "      <td>False</td>\n",
              "      <td>деление</td>\n",
              "    </tr>\n",
              "    <tr>\n",
              "      <th>19843</th>\n",
              "      <td>Что делать в случае задержки поезда в пути?\\nЗ...</td>\n",
              "      <td>False</td>\n",
              "      <td>задержка</td>\n",
              "    </tr>\n",
              "    <tr>\n",
              "      <th>19844</th>\n",
              "      <td>Все равно, на, возьми себе колечко в знак того...</td>\n",
              "      <td>True</td>\n",
              "      <td>знак</td>\n",
              "    </tr>\n",
              "  </tbody>\n",
              "</table>\n",
              "<p>19845 rows × 3 columns</p>\n",
              "</div>"
            ],
            "text/plain": [
              "                                                    text  labels      word\n",
              "0      В нашей деревне осталось от силы двадцать двор...    True      двор\n",
              "1      Табличка на дверях: «Без доклада не входить»\\n...   False    доклад\n",
              "2      У нас вообще […] засада с героями, способными ...    True    засада\n",
              "3      Он не успел сказать и десятой доли того, что с...   False      доля\n",
              "4      Теперь, если она не пойдет звонить мужу, успее...   False     закат\n",
              "...                                                  ...     ...       ...\n",
              "19840  Что у вас есть из рыбных закусок?\\nПоявляются ...    True   закуска\n",
              "19841  Рыбный дух за столетия пропитал темные каменны...   False       дух\n",
              "19842  Васильки размножают делением корневищ и посево...   False   деление\n",
              "19843  Что делать в случае задержки поезда в пути?\\nЗ...   False  задержка\n",
              "19844  Все равно, на, возьми себе колечко в знак того...    True      знак\n",
              "\n",
              "[19845 rows x 3 columns]"
            ]
          },
          "metadata": {
            "tags": []
          },
          "execution_count": 7
        }
      ]
    },
    {
      "cell_type": "markdown",
      "metadata": {
        "id": "f_NvMlKTVsfU"
      },
      "source": [
        "### [Logistic regression explained](https://towardsdatascience.com/logistic-regression-explained-9ee73cede081)"
      ]
    },
    {
      "cell_type": "code",
      "metadata": {
        "id": "68FSRKCi2jHG"
      },
      "source": [
        "from sklearn.feature_extraction.text import TfidfVectorizer\n",
        "from sklearn.linear_model import LogisticRegression\n",
        "\n",
        "log_reg = LogisticRegression(solver='liblinear', random_state=17)\n",
        "tf_vectorizer = TfidfVectorizer(ngram_range=(1, 2), max_df=0.95, min_df=2,)"
      ],
      "execution_count": null,
      "outputs": []
    },
    {
      "cell_type": "code",
      "metadata": {
        "id": "jva0IdfM1sFW"
      },
      "source": [
        "from sklearn import metrics\n",
        "from sklearn.metrics import plot_confusion_matrix\n",
        "from ipymarkup import show_span_line_markup\n",
        "import warnings\n",
        "warnings.filterwarnings(\"ignore\")\n",
        "\n",
        "class ModelTrainer:\n",
        "\n",
        "  def __init__(self, featurizer, model):\n",
        "    self.featurizer = featurizer\n",
        "    self.model = model\n",
        "    self.is_fit = False\n",
        "\n",
        "  def fit(self, train_data):\n",
        "    transformed_data = self.featurizer.fit_transform(train_data.text)\n",
        "    print(\"Data was featurized\")\n",
        "    self.model.fit(transformed_data, train_data.labels)\n",
        "    print(\"Model was fitted\")\n",
        "    self.is_fit = True\n",
        "\n",
        "  def valid(self, valid_data):\n",
        "    if self.is_fit:\n",
        "      transformed_data = self.featurizer.transform(valid_data.text)\n",
        "      predicted_labels = self.model.predict(transformed_data)\n",
        "      self.eval_result(predicted_labels, valid_data.labels)\n",
        "      self.vizualize_samples(valid_data, predicted_labels)\n",
        "      print(\"Plot confusion matrix\")\n",
        "      plot_confusion_matrix(self.model, transformed_data, valid_data.labels, normalize='true')\n",
        "    else:\n",
        "      raise ValueError(\"First use method \\\"fit\\\" of ModelTrainer\")\n",
        "\n",
        "  def eval_result(self, predicted_labels, target_labels):\n",
        "    print(\"Classification Report\")\n",
        "    print(metrics.classification_report(target_labels, predicted_labels))\n",
        "\n",
        "  def vizualize_samples(self, valid_data, predicted_labels):\n",
        "      valid_data[\"predicted_labels\"] = predicted_labels\n",
        "      print()\n",
        "      print(\"Prediction samples\")\n",
        "      for indx, row in valid_data.sample(5).iterrows():\n",
        "        sentences = row.text.split(DataProcessor.sentence_separator)\n",
        "        word = row.word\n",
        "        print(f\"Sample #{indx} \\t Target label: {row.labels} \\t Predicted label: {row.predicted_labels}\")\n",
        "        for sentence in sentences:\n",
        "          start_pos = sentence.lower().find(word[:-1])\n",
        "          show_span_line_markup(\n",
        "              sentence, \n",
        "              [(start_pos, start_pos + len(word) + 1, \"target_word\")], \n",
        "              width=120\n",
        "          )\n",
        "        print()\n"
      ],
      "execution_count": null,
      "outputs": []
    },
    {
      "cell_type": "code",
      "metadata": {
        "id": "EaGGt5E9IYGC"
      },
      "source": [
        ""
      ],
      "execution_count": null,
      "outputs": []
    },
    {
      "cell_type": "code",
      "metadata": {
        "colab": {
          "base_uri": "https://localhost:8080/",
          "height": 1000
        },
        "id": "q9isJ6LMk8Kn",
        "outputId": "2ab4e749-7c6f-4139-c856-21f5bdc4d345"
      },
      "source": [
        "mt = ModelTrainer(tf_vectorizer, log_reg)\n",
        "mt.fit(dp_train)\n",
        "mt.valid(dp_valid)"
      ],
      "execution_count": null,
      "outputs": [
        {
          "output_type": "stream",
          "text": [
            "Data was featurized\n",
            "Model was fitted\n",
            "Classification Report\n",
            "              precision    recall  f1-score   support\n",
            "\n",
            "       False       0.71      0.90      0.79      5366\n",
            "        True       0.69      0.36      0.47      3139\n",
            "\n",
            "    accuracy                           0.70      8505\n",
            "   macro avg       0.70      0.63      0.63      8505\n",
            "weighted avg       0.70      0.70      0.67      8505\n",
            "\n",
            "\n",
            "Prediction samples\n",
            "Sample #1398 \t Target label: False \t Predicted label: False\n"
          ],
          "name": "stdout"
        },
        {
          "output_type": "display_data",
          "data": {
            "text/html": [
              "<div class=\"tex2jax_ignore\" style=\"white-space: pre-wrap\"><div><span style=\"display: inline-block; vertical-align: top\">Сейчас закон предусматривает санкции в отношении «</span><span style=\"display: inline-block; vertical-align: top; position: relative; margin-bottom: 11px\"><span style=\"border-bottom: 3px solid #90caf9; padding-bottom: 8px\">двойнико</span><span style=\"font-size: 11px; line-height: 1; white-space: nowrap; text-shadow: 1px 1px 0px white; position: absolute; left: 0; bottom: -8px\">target_word</span></span><span style=\"display: inline-block; vertical-align: top\">в» лишь в том случае, если наименования […] копируются </span></div><div><span style=\"display: inline-block; vertical-align: top\">полностью</span></div></div>"
            ],
            "text/plain": [
              "<IPython.core.display.HTML object>"
            ]
          },
          "metadata": {
            "tags": []
          }
        },
        {
          "output_type": "display_data",
          "data": {
            "text/html": [
              "<div class=\"tex2jax_ignore\" style=\"white-space: pre-wrap\"><div><span style=\"display: inline-block; vertical-align: top\">Для Достоевского была важна тема </span><span style=\"display: inline-block; vertical-align: top; position: relative; margin-bottom: 11px\"><span style=\"border-bottom: 3px solid #90caf9; padding-bottom: 8px\">двойнико</span><span style=\"font-size: 11px; line-height: 1; white-space: nowrap; text-shadow: 1px 1px 0px white; position: absolute; left: 0; bottom: -8px\">target_word</span></span><span style=\"display: inline-block; vertical-align: top\">в</span></div></div>"
            ],
            "text/plain": [
              "<IPython.core.display.HTML object>"
            ]
          },
          "metadata": {
            "tags": []
          }
        },
        {
          "output_type": "stream",
          "text": [
            "\n",
            "Sample #3574 \t Target label: False \t Predicted label: False\n"
          ],
          "name": "stdout"
        },
        {
          "output_type": "display_data",
          "data": {
            "text/html": [
              "<div class=\"tex2jax_ignore\" style=\"white-space: pre-wrap\"><div><span style=\"display: inline-block; vertical-align: top\">В ней с детства </span><span style=\"display: inline-block; vertical-align: top; position: relative; margin-bottom: 11px\"><span style=\"border-bottom: 3px solid #90caf9; padding-bottom: 8px\">дух </span><span style=\"font-size: 11px; line-height: 1; white-space: nowrap; text-shadow: 1px 1px 0px white; position: absolute; left: 0; bottom: -8px\">target_word</span></span><span style=\"display: inline-block; vertical-align: top\">зависти</span></div></div>"
            ],
            "text/plain": [
              "<IPython.core.display.HTML object>"
            ]
          },
          "metadata": {
            "tags": []
          }
        },
        {
          "output_type": "display_data",
          "data": {
            "text/html": [
              "<div class=\"tex2jax_ignore\" style=\"white-space: pre-wrap\"><div><span style=\"display: inline-block; vertical-align: top\">Исчез котелок, как </span><span style=\"display: inline-block; vertical-align: top; position: relative; margin-bottom: 11px\"><span style=\"border-bottom: 3px solid #90caf9; padding-bottom: 8px\">дух </span><span style=\"font-size: 11px; line-height: 1; white-space: nowrap; text-shadow: 1px 1px 0px white; position: absolute; left: 0; bottom: -8px\">target_word</span></span><span style=\"display: inline-block; vertical-align: top\">нечистый его унес</span></div></div>"
            ],
            "text/plain": [
              "<IPython.core.display.HTML object>"
            ]
          },
          "metadata": {
            "tags": []
          }
        },
        {
          "output_type": "stream",
          "text": [
            "\n",
            "Sample #2958 \t Target label: False \t Predicted label: False\n"
          ],
          "name": "stdout"
        },
        {
          "output_type": "display_data",
          "data": {
            "text/html": [
              "<div class=\"tex2jax_ignore\" style=\"white-space: pre-wrap\"><div><span style=\"display: inline-block; vertical-align: top\">Дело шло о </span><span style=\"display: inline-block; vertical-align: top; position: relative; margin-bottom: 11px\"><span style=\"border-bottom: 3px solid #90caf9; padding-bottom: 8px\">законе</span><span style=\"font-size: 11px; line-height: 1; white-space: nowrap; text-shadow: 1px 1px 0px white; position: absolute; left: 0; bottom: -8px\">target_word</span></span><span style=\"display: inline-block; vertical-align: top\"> XIV века, который карал лиц, заглядывающих с улицы в чужие окна</span></div></div>"
            ],
            "text/plain": [
              "<IPython.core.display.HTML object>"
            ]
          },
          "metadata": {
            "tags": []
          }
        },
        {
          "output_type": "display_data",
          "data": {
            "text/html": [
              "<div class=\"tex2jax_ignore\" style=\"white-space: pre-wrap\"><div><span style=\"display: inline-block; vertical-align: top\">Так ли уж легко провести границу между необходимой точностью в исполнении Божьего </span><span style=\"display: inline-block; vertical-align: top; position: relative; margin-bottom: 11px\"><span style=\"border-bottom: 3px solid #90caf9; padding-bottom: 8px\">закона</span><span style=\"font-size: 11px; line-height: 1; white-space: nowrap; text-shadow: 1px 1px 0px white; position: absolute; left: 0; bottom: -8px\">target_word</span></span><span style=\"display: inline-block; vertical-align: top\"> и недолжной мелочностью?</span></div></div>"
            ],
            "text/plain": [
              "<IPython.core.display.HTML object>"
            ]
          },
          "metadata": {
            "tags": []
          }
        },
        {
          "output_type": "stream",
          "text": [
            "\n",
            "Sample #6738 \t Target label: False \t Predicted label: False\n"
          ],
          "name": "stdout"
        },
        {
          "output_type": "display_data",
          "data": {
            "text/html": [
              "<div class=\"tex2jax_ignore\" style=\"white-space: pre-wrap\"><div><span style=\"display: inline-block; vertical-align: top\">Желтели и краснели осенние кусты, с осин тихо сыпалось </span><span style=\"display: inline-block; vertical-align: top; position: relative; margin-bottom: 11px\"><span style=\"border-bottom: 3px solid #90caf9; padding-bottom: 8px\">золото </span><span style=\"font-size: 11px; line-height: 1; white-space: nowrap; text-shadow: 1px 1px 0px white; position: absolute; left: 0; bottom: -8px\">target_word</span></span><span style=\"display: inline-block; vertical-align: top\">листьев</span></div></div>"
            ],
            "text/plain": [
              "<IPython.core.display.HTML object>"
            ]
          },
          "metadata": {
            "tags": []
          }
        },
        {
          "output_type": "display_data",
          "data": {
            "text/html": [
              "<div class=\"tex2jax_ignore\" style=\"white-space: pre-wrap\"><div><span style=\"display: inline-block; vertical-align: top\">По соседству за сдвинутыми столами расположилась компания, отмечающая какой-то юбилей молодящейся полной дамы, в </span></div><div><span style=\"display: inline-block; vertical-align: top\">изобилии увешанной </span><span style=\"display: inline-block; vertical-align: top; position: relative; margin-bottom: 11px\"><span style=\"border-bottom: 3px solid #90caf9; padding-bottom: 8px\">золотом</span><span style=\"font-size: 11px; line-height: 1; white-space: nowrap; text-shadow: 1px 1px 0px white; position: absolute; left: 0; bottom: -8px\">target_word</span></span><span style=\"display: inline-block; vertical-align: top\"> и бриллиантами</span></div></div>"
            ],
            "text/plain": [
              "<IPython.core.display.HTML object>"
            ]
          },
          "metadata": {
            "tags": []
          }
        },
        {
          "output_type": "stream",
          "text": [
            "\n",
            "Sample #5066 \t Target label: False \t Predicted label: False\n"
          ],
          "name": "stdout"
        },
        {
          "output_type": "display_data",
          "data": {
            "text/html": [
              "<div class=\"tex2jax_ignore\" style=\"white-space: pre-wrap\"><div><span style=\"display: inline-block; vertical-align: top\">Обычно, падая с такой высоты, умирают до удара о </span><span style=\"display: inline-block; vertical-align: top; position: relative; margin-bottom: 11px\"><span style=\"border-bottom: 3px solid #90caf9; padding-bottom: 8px\">землю</span><span style=\"font-size: 11px; line-height: 1; white-space: nowrap; text-shadow: 1px 1px 0px white; position: absolute; left: 0; bottom: -8px\">target_word</span></span><span style=\"display: inline-block; vertical-align: top\"></span></div></div>"
            ],
            "text/plain": [
              "<IPython.core.display.HTML object>"
            ]
          },
          "metadata": {
            "tags": []
          }
        },
        {
          "output_type": "display_data",
          "data": {
            "text/html": [
              "<div class=\"tex2jax_ignore\" style=\"white-space: pre-wrap\"><div><span style=\"display: inline-block; vertical-align: top\"></span><span style=\"display: inline-block; vertical-align: top; position: relative; margin-bottom: 11px\"><span style=\"border-bottom: 3px solid #90caf9; padding-bottom: 8px\">Земля </span><span style=\"font-size: 11px; line-height: 1; white-space: nowrap; text-shadow: 1px 1px 0px white; position: absolute; left: 0; bottom: -8px\">target_word</span></span><span style=\"display: inline-block; vertical-align: top\">– крестьянам, фабрики – рабочим!</span></div></div>"
            ],
            "text/plain": [
              "<IPython.core.display.HTML object>"
            ]
          },
          "metadata": {
            "tags": []
          }
        },
        {
          "output_type": "stream",
          "text": [
            "\n",
            "Plot confusion matrix\n"
          ],
          "name": "stdout"
        },
        {
          "output_type": "display_data",
          "data": {
            "image/png": "[encoded data removed]",
            "text/plain": [
              "<Figure size 432x288 with 2 Axes>"
            ]
          },
          "metadata": {
            "tags": [],
            "needs_background": "light"
          }
        }
      ]
    },
    {
      "cell_type": "markdown",
      "metadata": {
        "id": "wkhByNNOWYcB"
      },
      "source": [
        "### [BERT explained](https://towardsdatascience.com/bert-explained-state-of-the-art-language-model-for-nlp-f8b21a9b6270#:~:text=BERT%20(Bidirectional%20Encoder%20Representations%20from,researchers%20at%20Google%20AI%20Language.&text=The%20paper's%20results%20show%20that,than%20single%2Ddirection%20language%20models.)"
      ]
    },
    {
      "cell_type": "code",
      "metadata": {
        "id": "GM3Wl6GRXC0B"
      },
      "source": [
        "from transformers import BertTokenizer, BertModel\n",
        "import torch\n",
        "import numpy as np"
      ],
      "execution_count": null,
      "outputs": []
    },
    {
      "cell_type": "code",
      "metadata": {
        "id": "ByUaHi3yqH4s"
      },
      "source": [
        "from torch import nn\n",
        "from tqdm import tqdm\n",
        "from keras.preprocessing.sequence import pad_sequences\n",
        "import torch\n",
        "from torch.utils.data import TensorDataset, DataLoader, RandomSampler, SequentialSampler\n",
        "\n",
        "\n",
        "class BertEmbedder:\n",
        "\n",
        "  max_seq_len = 128\n",
        "  batch_size = 128\n",
        "  device = \"cuda:0\"\n",
        "\n",
        "  def __init__(self, model_path_or_name):\n",
        "    self.tokenizer = BertTokenizer.from_pretrained(model_path_or_name)\n",
        "    self.model = BertModel.from_pretrained(model_path_or_name)\n",
        "    self.model.eval()\n",
        "    self.model = self.model.to(self.device)\n",
        "\n",
        "  def fit_transform(self, samples):\n",
        "    return self._transform(samples)\n",
        "\n",
        "  def transform(self, samples):\n",
        "    return self._transform(samples)\n",
        "\n",
        "  def _transform(self, samples):\n",
        "    embeddings = self.bert_vectors(samples)\n",
        "    return embeddings\n",
        "\n",
        "  def prepare_samples(self, samples):\n",
        "    input_ids = []\n",
        "    for sample in tqdm(samples):\n",
        "      for sent in sample.split(DataProcessor.sentence_separator):\n",
        "          encoded_sent = self.tokenizer.encode(sent, add_special_tokens = True)\n",
        "          input_ids.append(encoded_sent[:self.max_seq_len])\n",
        "    input_ids = pad_sequences(\n",
        "        input_ids, maxlen=self.max_seq_len, dtype=\"long\", value=0, truncating=\"post\", padding=\"post\"\n",
        "    )\n",
        "    attention_masks = []\n",
        "    for sent in input_ids:\n",
        "        att_mask = [int(token_id > 0) for token_id in sent]\n",
        "        attention_masks.append(att_mask)\n",
        "    return input_ids, attention_masks\n",
        " \n",
        "  def bert_vectors(self, samples):\n",
        "    input_ids, attention_masks = self.prepare_samples(samples)\n",
        "\n",
        "    inputs_ids = torch.tensor(input_ids)\n",
        "    masks = torch.tensor(attention_masks)\n",
        "    \n",
        "    dataset = TensorDataset(inputs_ids, masks)\n",
        "    dataloader = DataLoader(dataset, shuffle=False, batch_size=self.batch_size)\n",
        "    \n",
        "    embeddings = []\n",
        "    with torch.no_grad():\n",
        "      for batch in tqdm(dataloader):\n",
        "          batch = tuple(t.to(self.device) for t in batch)\n",
        "          b_input_ids, b_input_mask = batch\n",
        "          outputs = self.model(b_input_ids, token_type_ids=None, attention_mask=b_input_mask)\n",
        "          embeddings.append(\n",
        "              outputs[\"last_hidden_state\"][:,0,:].detach().cpu().numpy()\n",
        "          )\n",
        "    embeddings = np.concatenate(embeddings)\n",
        "    emb_pairs = np.reshape(embeddings, (int(embeddings.shape[0] / 2), \n",
        "                                        int(embeddings.shape[-1] * 2)))\n",
        "    return emb_pairs\n",
        "      "
      ],
      "execution_count": null,
      "outputs": []
    },
    {
      "cell_type": "code",
      "metadata": {
        "id": "Phza7zPrxEar"
      },
      "source": [
        "# run once\n",
        "#!wget http://files.deeppavlov.ai/deeppavlov_data/bert/sentence_ru_cased_L-12_H-768_A-12_pt.tar.gz\n",
        "#!tar -xf sentence_ru_cased_L-12_H-768_A-12_pt.tar.gz\n",
        "#!ls ./sentence_ru_cased_L-12_H-768_A-12_pt\n",
        "#!mv ./sentence_ru_cased_L-12_H-768_A-12_pt/bert_config.json ./sentence_ru_cased_L-12_H-768_A-12_pt/config.json"
      ],
      "execution_count": null,
      "outputs": []
    },
    {
      "cell_type": "code",
      "metadata": {
        "id": "m-kjKUOPasYQ"
      },
      "source": [
        "#be = BertEmbedder(\"bert-base-multilingual-cased\")\n",
        "be = BertEmbedder(\"./sentence_ru_cased_L-12_H-768_A-12_pt\")\n",
        "log_reg_be = LogisticRegression(solver='liblinear', random_state=17)"
      ],
      "execution_count": null,
      "outputs": []
    },
    {
      "cell_type": "code",
      "metadata": {
        "colab": {
          "base_uri": "https://localhost:8080/",
          "height": 1000
        },
        "id": "SMhRlp-nbW70",
        "outputId": "3efc22e2-4b80-47e0-b088-717b1a3cf655"
      },
      "source": [
        "mt = ModelTrainer(be, log_reg_be)\n",
        "mt.fit(dp_train)\n",
        "mt.valid(dp_valid)"
      ],
      "execution_count": null,
      "outputs": [
        {
          "output_type": "stream",
          "text": [
            "100%|██████████| 19845/19845 [00:16<00:00, 1192.33it/s]\n",
            "100%|██████████| 311/311 [04:50<00:00,  1.07it/s]\n"
          ],
          "name": "stderr"
        },
        {
          "output_type": "stream",
          "text": [
            "Data was featurized\n"
          ],
          "name": "stdout"
        },
        {
          "output_type": "stream",
          "text": [
            "  1%|▏         | 123/8505 [00:00<00:06, 1220.86it/s]"
          ],
          "name": "stderr"
        },
        {
          "output_type": "stream",
          "text": [
            "Model was fitted\n"
          ],
          "name": "stdout"
        },
        {
          "output_type": "stream",
          "text": [
            "100%|██████████| 8505/8505 [00:06<00:00, 1220.38it/s]\n",
            "100%|██████████| 133/133 [02:05<00:00,  1.06it/s]"
          ],
          "name": "stderr"
        },
        {
          "output_type": "stream",
          "text": [
            "Classification Report\n",
            "              precision    recall  f1-score   support\n",
            "\n",
            "       False       0.70      0.81      0.75      5366\n",
            "        True       0.56      0.40      0.47      3139\n",
            "\n",
            "    accuracy                           0.66      8505\n",
            "   macro avg       0.63      0.61      0.61      8505\n",
            "weighted avg       0.65      0.66      0.65      8505\n",
            "\n",
            "\n",
            "Prediction samples\n",
            "Sample #5462 \t Target label: False \t Predicted label: False\n"
          ],
          "name": "stdout"
        },
        {
          "output_type": "stream",
          "text": [
            "\n"
          ],
          "name": "stderr"
        },
        {
          "output_type": "display_data",
          "data": {
            "text/html": [
              "<div class=\"tex2jax_ignore\" style=\"white-space: pre-wrap\"><div><span style=\"display: inline-block; vertical-align: top\">Кто будет в </span><span style=\"display: inline-block; vertical-align: top; position: relative; margin-bottom: 11px\"><span style=\"border-bottom: 3px solid #90caf9; padding-bottom: 8px\">запасе</span><span style=\"font-size: 11px; line-height: 1; white-space: nowrap; text-shadow: 1px 1px 0px white; position: absolute; left: 0; bottom: -8px\">target_word</span></span><span style=\"display: inline-block; vertical-align: top\"> во время сегодняшнего матча?</span></div></div>"
            ],
            "text/plain": [
              "<IPython.core.display.HTML object>"
            ]
          },
          "metadata": {
            "tags": []
          }
        },
        {
          "output_type": "display_data",
          "data": {
            "text/html": [
              "<div class=\"tex2jax_ignore\" style=\"white-space: pre-wrap\"><div><span style=\"display: inline-block; vertical-align: top\"></span><span style=\"display: inline-block; vertical-align: top; position: relative; margin-bottom: 11px\"><span style=\"border-bottom: 3px solid #90caf9; padding-bottom: 8px\">Запасы</span><span style=\"font-size: 11px; line-height: 1; white-space: nowrap; text-shadow: 1px 1px 0px white; position: absolute; left: 0; bottom: -8px\">target_word</span></span><span style=\"display: inline-block; vertical-align: top\"> горючего были на исходе</span></div></div>"
            ],
            "text/plain": [
              "<IPython.core.display.HTML object>"
            ]
          },
          "metadata": {
            "tags": []
          }
        },
        {
          "output_type": "stream",
          "text": [
            "\n",
            "Sample #1106 \t Target label: False \t Predicted label: False\n"
          ],
          "name": "stdout"
        },
        {
          "output_type": "display_data",
          "data": {
            "text/html": [
              "<div class=\"tex2jax_ignore\" style=\"white-space: pre-wrap\"><div><span style=\"display: inline-block; vertical-align: top\">Такого не было с 1915 года, когда турки резали армян с нечеловеческой </span><span style=\"display: inline-block; vertical-align: top; position: relative; margin-bottom: 11px\"><span style=\"border-bottom: 3px solid #90caf9; padding-bottom: 8px\">жестокостью</span><span style=\"font-size: 11px; line-height: 1; white-space: nowrap; text-shadow: 1px 1px 0px white; position: absolute; left: 0; bottom: -8px\">target_word</span></span><span style=\"display: inline-block; vertical-align: top\"></span></div></div>"
            ],
            "text/plain": [
              "<IPython.core.display.HTML object>"
            ]
          },
          "metadata": {
            "tags": []
          }
        },
        {
          "output_type": "display_data",
          "data": {
            "text/html": [
              "<div class=\"tex2jax_ignore\" style=\"white-space: pre-wrap\"><div><span style=\"display: inline-block; vertical-align: top\">Выяснилось, что в северной столице 41 процент горожан считает необходимым вообще запретить фильмы со сценами насилия и </span></div><div><span style=\"display: inline-block; vertical-align: top\"></span><span style=\"display: inline-block; vertical-align: top; position: relative; margin-bottom: 11px\"><span style=\"border-bottom: 3px solid #90caf9; padding-bottom: 8px\">жестокости</span><span style=\"font-size: 11px; line-height: 1; white-space: nowrap; text-shadow: 1px 1px 0px white; position: absolute; left: 0; bottom: -8px\">target_word</span></span><span style=\"display: inline-block; vertical-align: top\"></span></div></div>"
            ],
            "text/plain": [
              "<IPython.core.display.HTML object>"
            ]
          },
          "metadata": {
            "tags": []
          }
        },
        {
          "output_type": "stream",
          "text": [
            "\n",
            "Sample #6845 \t Target label: False \t Predicted label: True\n"
          ],
          "name": "stdout"
        },
        {
          "output_type": "display_data",
          "data": {
            "text/html": [
              "<div class=\"tex2jax_ignore\" style=\"white-space: pre-wrap\"><div><span style=\"display: inline-block; vertical-align: top\">Старший из тройки прекрасно разбирался в технике и смог открыть </span><span style=\"display: inline-block; vertical-align: top; position: relative; margin-bottom: 11px\"><span style=\"border-bottom: 3px solid #90caf9; padding-bottom: 8px\">замок </span><span style=\"font-size: 11px; line-height: 1; white-space: nowrap; text-shadow: 1px 1px 0px white; position: absolute; left: 0; bottom: -8px\">target_word</span></span><span style=\"display: inline-block; vertical-align: top\">и даже справиться с сигнализацией</span></div></div>"
            ],
            "text/plain": [
              "<IPython.core.display.HTML object>"
            ]
          },
          "metadata": {
            "tags": []
          }
        },
        {
          "output_type": "display_data",
          "data": {
            "text/html": [
              "<div class=\"tex2jax_ignore\" style=\"white-space: pre-wrap\"><div><span style=\"display: inline-block; vertical-align: top\">Сцепите руки в </span><span style=\"display: inline-block; vertical-align: top; position: relative; margin-bottom: 11px\"><span style=\"border-bottom: 3px solid #90caf9; padding-bottom: 8px\">замок </span><span style=\"font-size: 11px; line-height: 1; white-space: nowrap; text-shadow: 1px 1px 0px white; position: absolute; left: 0; bottom: -8px\">target_word</span></span><span style=\"display: inline-block; vertical-align: top\">в области диафрагмы, то есть между его [пострадавшего] талией и грудной клеткой</span></div></div>"
            ],
            "text/plain": [
              "<IPython.core.display.HTML object>"
            ]
          },
          "metadata": {
            "tags": []
          }
        },
        {
          "output_type": "stream",
          "text": [
            "\n",
            "Sample #7933 \t Target label: False \t Predicted label: False\n"
          ],
          "name": "stdout"
        },
        {
          "output_type": "display_data",
          "data": {
            "text/html": [
              "<div class=\"tex2jax_ignore\" style=\"white-space: pre-wrap\"><div><span style=\"display: inline-block; vertical-align: top\">Вот неожиданно положительный результат топливного кризиса – резко сократилось число жертв на </span><span style=\"display: inline-block; vertical-align: top; position: relative; margin-bottom: 11px\"><span style=\"border-bottom: 3px solid #90caf9; padding-bottom: 8px\">дорогах</span><span style=\"font-size: 11px; line-height: 1; white-space: nowrap; text-shadow: 1px 1px 0px white; position: absolute; left: 0; bottom: -8px\">target_word</span></span><span style=\"display: inline-block; vertical-align: top\"></span></div></div>"
            ],
            "text/plain": [
              "<IPython.core.display.HTML object>"
            ]
          },
          "metadata": {
            "tags": []
          }
        },
        {
          "output_type": "display_data",
          "data": {
            "text/html": [
              "<div class=\"tex2jax_ignore\" style=\"white-space: pre-wrap\"><div><span style=\"display: inline-block; vertical-align: top\"></span><span style=\"display: inline-block; vertical-align: top; position: relative; margin-bottom: 11px\"><span style=\"border-bottom: 3px solid #90caf9; padding-bottom: 8px\">Дорога </span><span style=\"font-size: 11px; line-height: 1; white-space: nowrap; text-shadow: 1px 1px 0px white; position: absolute; left: 0; bottom: -8px\">target_word</span></span><span style=\"display: inline-block; vertical-align: top\">этой балерины в Большой театр не была усыпана розами</span></div></div>"
            ],
            "text/plain": [
              "<IPython.core.display.HTML object>"
            ]
          },
          "metadata": {
            "tags": []
          }
        },
        {
          "output_type": "stream",
          "text": [
            "\n",
            "Sample #8001 \t Target label: False \t Predicted label: False\n"
          ],
          "name": "stdout"
        },
        {
          "output_type": "display_data",
          "data": {
            "text/html": [
              "<div class=\"tex2jax_ignore\" style=\"white-space: pre-wrap\"><div><span style=\"display: inline-block; vertical-align: top\">Мы шли очень медленно, потому что наш </span><span style=\"display: inline-block; vertical-align: top; position: relative; margin-bottom: 11px\"><span style=\"border-bottom: 3px solid #90caf9; padding-bottom: 8px\">двигатель </span><span style=\"font-size: 11px; line-height: 1; white-space: nowrap; text-shadow: 1px 1px 0px white; position: absolute; left: 0; bottom: -8px\">target_word</span></span><span style=\"display: inline-block; vertical-align: top\">работал лишь в четверть силы</span></div></div>"
            ],
            "text/plain": [
              "<IPython.core.display.HTML object>"
            ]
          },
          "metadata": {
            "tags": []
          }
        },
        {
          "output_type": "display_data",
          "data": {
            "text/html": [
              "<div class=\"tex2jax_ignore\" style=\"white-space: pre-wrap\"><div><span style=\"display: inline-block; vertical-align: top\">Основной </span><span style=\"display: inline-block; vertical-align: top; position: relative; margin-bottom: 11px\"><span style=\"border-bottom: 3px solid #90caf9; padding-bottom: 8px\">двигатель </span><span style=\"font-size: 11px; line-height: 1; white-space: nowrap; text-shadow: 1px 1px 0px white; position: absolute; left: 0; bottom: -8px\">target_word</span></span><span style=\"display: inline-block; vertical-align: top\">был не страх, а иные силы – долг, разум, совесть</span></div></div>"
            ],
            "text/plain": [
              "<IPython.core.display.HTML object>"
            ]
          },
          "metadata": {
            "tags": []
          }
        },
        {
          "output_type": "stream",
          "text": [
            "\n",
            "Plot confusion matrix\n"
          ],
          "name": "stdout"
        },
        {
          "output_type": "display_data",
          "data": {
            "image/png": "[encoded data removed]",
            "text/plain": [
              "<Figure size 432x288 with 2 Axes>"
            ]
          },
          "metadata": {
            "tags": [],
            "needs_background": "light"
          }
        }
      ]
    },
    {
      "cell_type": "code",
      "metadata": {
        "id": "4gEYbVyFTnLL"
      },
      "source": [
        ""
      ],
      "execution_count": null,
      "outputs": []
    },
    {
      "cell_type": "markdown",
      "metadata": {
        "id": "UJOR4HcLTnob"
      },
      "source": [
        "## Домашняя работа \n",
        "**Варинт 1**. Максимально количество баллов: 7\n",
        "\n",
        "Вы работаете над уже написанными классами и их улучшением для решения задачи RUSSE. \n",
        "\n",
        "Что можно сделать?\n",
        "\n",
        "*   Снять морфологическую омонимию \n",
        "*   Попробовать иные параметры для TF-IDF (включаю работу на символах, а не словах)\n",
        "*   Добавить другие модели для бинарной классификации, если вы знаете (деревья, например) \n",
        "\n",
        "Все это творчество оценивается максимум в 3 балла, при условии того, что это вписано в существующие классы или заведены новые\n",
        "\n",
        "**Вариает 2**. Максимально количество баллов: 9\n",
        "\n",
        "Переписываете, дописываете существующий пайплайн работы и при этом решаете задачу TERRa\n",
        "\n",
        "Что делать? \n",
        "\n",
        "*   Знакомитесь с задаче и придумываете как ее можно решить, с помощью тех методов, о которых вы знаете\n",
        "\n",
        "Все это творчество оценивается максимум в 5 баллов, при условии того, что это вписано в существующие классы или заведены новые\n",
        "\n",
        "**Оценивается и должно быть в обоих вариантах**: \n",
        "\n",
        "\n",
        "*   Вы написали AbstractStep и от него отнаследовали все классы (он может иметь только один общий метод, например вернуть имя класса - задача больше учебная чем функциональная) - 1 балла\n",
        "*   Вы написали CustomPipeline, который на вход принимает все ваши степы (reader, processor, trainer) и имеет функционал run, который запускает все эти шаги в правльной последовательности и выполняет необходимые методы для обучения и валидации - 1 балла\n",
        "*  Вы добавили шаг Statistics - принимает на вход DataFrame и вовзращает важные, по вашему мнению дескриптивные статистики по данному набору данных, может ничего не возвращать,а может исходный DataFrame - 2 балла\n",
        "\n",
        "\n",
        "\n",
        "К каждому из вариантов добавляется **один балл сверху**, если вы зарегистрировались и сделали сабмит своих результатов на сайте Russian SuperGlue. Подразумевается, что код, который создает submition.json также присутствует в тетрадке.\n",
        "\n",
        "Напомню в первую очередь оценивает работа с классами и скилл программирования, во вторую - результат моделей"
      ]
    },
    {
      "cell_type": "code",
      "metadata": {
        "colab": {
          "base_uri": "https://localhost:8080/"
        },
        "id": "muR4_efSY4zs",
        "outputId": "2e318b87-a643-4d8f-d2bf-69577b07800e"
      },
      "source": [
        "!wget https://russiansuperglue.com/tasks/download/TERRa"
      ],
      "execution_count": null,
      "outputs": [
        {
          "output_type": "stream",
          "text": [
            "--2020-12-13 18:36:23--  https://russiansuperglue.com/tasks/download/TERRa\n",
            "Resolving russiansuperglue.com (russiansuperglue.com)... 80.66.93.142\n",
            "Connecting to russiansuperglue.com (russiansuperglue.com)|80.66.93.142|:443... connected.\n",
            "HTTP request sent, awaiting response... 200 OK\n",
            "Length: 907346 (886K) [application/zip]\n",
            "Saving to: ‘TERRa’\n",
            "\n",
            "TERRa               100%[===================>] 886.08K   720KB/s    in 1.2s    \n",
            "\n",
            "2020-12-13 18:36:25 (720 KB/s) - ‘TERRa’ saved [907346/907346]\n",
            "\n"
          ],
          "name": "stdout"
        }
      ]
    },
    {
      "cell_type": "code",
      "metadata": {
        "id": "2hXxMsWiY7GW"
      },
      "source": [
        "!mv TERRa TERRa.zip"
      ],
      "execution_count": null,
      "outputs": []
    },
    {
      "cell_type": "code",
      "metadata": {
        "colab": {
          "base_uri": "https://localhost:8080/"
        },
        "id": "FQbXbJlBY_3H",
        "outputId": "4a8409e3-bafe-475d-fe06-ff5eb0700dd4"
      },
      "source": [
        "!unzip TERRa.zip"
      ],
      "execution_count": null,
      "outputs": [
        {
          "output_type": "stream",
          "text": [
            "Archive:  TERRa.zip\n",
            "   creating: TERRa/\n",
            "  inflating: TERRa/train.jsonl       \n",
            "   creating: __MACOSX/\n",
            "   creating: __MACOSX/TERRa/\n",
            "  inflating: __MACOSX/TERRa/._train.jsonl  \n",
            "  inflating: TERRa/.DS_Store         \n",
            "  inflating: __MACOSX/TERRa/._.DS_Store  \n",
            "  inflating: TERRa/test.jsonl        \n",
            "  inflating: __MACOSX/TERRa/._test.jsonl  \n",
            "  inflating: TERRa/val.jsonl         \n",
            "  inflating: __MACOSX/TERRa/._val.jsonl  \n",
            "  inflating: __MACOSX/._TERRa        \n"
          ],
          "name": "stdout"
        }
      ]
    },
    {
      "cell_type": "code",
      "metadata": {
        "colab": {
          "base_uri": "https://localhost:8080/"
        },
        "id": "TnurQqQGZCQS",
        "outputId": "91d32bae-1f88-4b8b-e560-5bbc3edf133b"
      },
      "source": [
        "!head TERRa/train.jsonl"
      ],
      "execution_count": null,
      "outputs": [
        {
          "output_type": "stream",
          "text": [
            "{\"premise\": \"Женщину доставили в больницу, за ее жизнь сейчас борются врачи.\", \"hypothesis\": \"Женщину спасают врачи.\", \"label\": \"entailment\", \"idx\": 0}\r\n",
            "{\"premise\": \"Он проводит невидимую грань между настоящим и будущим. В эти минуты все мы подводим главные итоги года, вспоминаем самые важные события. В эти мгновения мы с волнением ждем добрых перемен.\", \"hypothesis\": \"В эти минуты все мы подводим друг друга.\", \"label\": \"not_entailment\", \"idx\": 1}\r\n",
            "{\"premise\": \"Мужчина рассказал: детская коляска, принадлежащая его семье, пропала прямо из подъезда. Как выяснили полицейские, коляску украл сосед мужчины. Он был пьян, и ему нужны были деньги.\", \"hypothesis\": \"Сосед часто крадет детские коляски ради денег.\", \"label\": \"not_entailment\", \"idx\": 2}\r\n",
            "{\"premise\": \"Я просто об этом даже не думаю, потому что если кто-то что-то захочет, никуда не спрячешься.\", \"hypothesis\": \"Спрятаться не удастся.\", \"label\": \"entailment\", \"idx\": 3}\r\n",
            "{\"premise\": \"В ходе проверки нашли дома с наледью и сосульками на крышах. Информацию о них передали коммунальщикам. Во избежание несчастных случаев спасатели рекомендуют гражданам быть осторожней, а коммунальщикам – оперативней, при выходе из зданий советуют смотреть на крыши и, по возможности, обходить края зданий.\", \"hypothesis\": \"Все сосульки с крыш были сбиты.\", \"label\": \"not_entailment\", \"idx\": 4}\r\n",
            "{\"premise\": \"Автор поста написал в комментарии, что прорвалась канализация.\", \"hypothesis\": \"Автор поста написал про канализацию.\", \"label\": \"entailment\", \"idx\": 5}\r\n",
            "{\"premise\": \"\\\"В свою очередь Владимир Путин в ходе совещания сообщил, что необходимо понимать, с какими поставщиками работают предприятия, которые дают окончательную продукцию. \\\"\\\"Там десятки тысяч поставщиков, но нам нужно понимать, что это за поставщики, чтобы это были те предприятия, которые в состоянии решать соответствующие проблемы, чтобы нам была понятна их рентабельность, чтобы распределение прибыли было понятным и прозрачным\\\"\\\", - сказал премьер. По его словам, это необходимо, потому что когда неизвестны все схемы поставщиков, министерству обороны практически невозможно разобраться в конечной цене продукции.\\\"\", \"hypothesis\": \"Путин хочет понятности и прозрачности в распределении прибыли у поставщиков оборонных предприятий.\", \"label\": \"entailment\", \"idx\": 6}\r\n",
            "{\"premise\": \"Ходатайство о продлении заявила адвокат задержанной, отметив, что следствием не были предоставлены документы, характеризующие личность задержанной.\", \"hypothesis\": \"Адвокат задержанной отметила отличную работу следствия.\", \"label\": \"not_entailment\", \"idx\": 7}\r\n",
            "{\"premise\": \"\\\"Возраст людей определить не смог. Их лица были закрыты капюшонами, - рассказал журналисту \\\"\\\"Комсомольской правды\\\"\\\"-Саратов один из автолюбителей, проезжавших на мосту. - Со стороны обоих городов образовалась пробка, так как прибывшие машины спасателей и полиции перегородили полосу движения.\\\"\", \"hypothesis\": \"Люди прятали лица под капюшонами.\", \"label\": \"entailment\", \"idx\": 8}\r\n",
            "{\"premise\": \"Родительских прав мать не лишена. Пока. А в парадном девочка оказалась, потому что дома она мешала матери выпивать.\", \"hypothesis\": \"Дочь мешала маме пить.\", \"label\": \"entailment\", \"idx\": 9}\r\n"
          ],
          "name": "stdout"
        }
      ]
    }
  ]
}