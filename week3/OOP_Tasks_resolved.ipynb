{
  "nbformat": 4,
  "nbformat_minor": 0,
  "metadata": {
    "colab": {
      "name": "OOP-Tasks.ipynb",
      "provenance": []
    },
    "kernelspec": {
      "name": "python3",
      "display_name": "Python 3"
    },
    "language_info": {
      "name": "python"
    }
  },
  "cells": [
    {
      "cell_type": "markdown",
      "source": [
        "Task #1.\n",
        "\n",
        "Write a program, to create a child class Teacher that will inherit the properties of Parent class Staff.\n",
        "\n",
        "Staff expected  (role, dept, salary) arguments in init.\n",
        "\n",
        "Teacher expected  (name, age) arguments in init. All teacher have role = Teacher, dept = Science\n",
        "\n",
        "show_details()  - show formated output string with name, age, role and departmment\n",
        " "
      ],
      "metadata": {
        "id": "Q5Wob8mGlT4_"
      }
    },
    {
      "cell_type": "code",
      "source": [
        "class Staff:\n",
        "\n",
        "  def __init__(self, role, dept, salary):\n",
        "      self.role = role\n",
        "      self.dept = dept\n",
        "      self.salary = salary\n",
        "\n",
        "\n",
        "class Teacher(Staff):\n",
        "\n",
        "  def __init__(self, name, age):\n",
        "      super().__init__(dept = \"Science\", role = \"Teacher\", salary = 25)\n",
        "      self.name, self.age = name, age\n",
        "\n",
        "  def show_details(self):\n",
        "    print(f\"Name:  {self.name}\")\n",
        "    print(f\"Age:  {self.age}\")\n",
        "    print(f\"Role:  {self.role}\")\n",
        "    print(f\"Department:  {self.dept}\")"
      ],
      "metadata": {
        "id": "XtwcbwUkoQVH"
      },
      "execution_count": 3,
      "outputs": []
    },
    {
      "cell_type": "code",
      "execution_count": 4,
      "metadata": {
        "colab": {
          "base_uri": "https://localhost:8080/"
        },
        "id": "63Qfr6I7lQwC",
        "outputId": "b18aeeb8-2fad-47a1-e7a7-ef1983582037"
      },
      "outputs": [
        {
          "output_type": "stream",
          "name": "stdout",
          "text": [
            "Name:  Raj\n",
            "Age:  28\n",
            "Role:  Teacher\n",
            "Department:  Science\n"
          ]
        }
      ],
      "source": [
        "teacher = Teacher(\"Raj\", 28)\n",
        "\n",
        "#access the Staff Method\n",
        "teacher.show_details()\n",
        "\n",
        "# Name:  Raj\n",
        "# Age:  28\n",
        "# Role: Teacher\n",
        "# Department: Science"
      ]
    },
    {
      "cell_type": "markdown",
      "source": [
        "Task #2. \n",
        "\n",
        "Write a Program, to create Teacher class and using the class instance print all the writable attributes of that object."
      ],
      "metadata": {
        "id": "8gJklWbBoQwE"
      }
    },
    {
      "cell_type": "code",
      "source": [
        "teacher.__dict__"
      ],
      "metadata": {
        "colab": {
          "base_uri": "https://localhost:8080/"
        },
        "id": "d5z73X2NoaHf",
        "outputId": "b59716a2-0173-4768-ce3e-dcd9ce66053b"
      },
      "execution_count": 5,
      "outputs": [
        {
          "output_type": "execute_result",
          "data": {
            "text/plain": [
              "{'age': 28, 'dept': 'Science', 'name': 'Raj', 'role': 'Teacher', 'salary': 25}"
            ]
          },
          "metadata": {},
          "execution_count": 5
        }
      ]
    },
    {
      "cell_type": "markdown",
      "source": [
        "Task #3.\n",
        "\n",
        "Add to class Teacher the private attribute salary"
      ],
      "metadata": {
        "id": "fhX2KTXkonhh"
      }
    },
    {
      "cell_type": "code",
      "source": [
        "class Staff:\n",
        "\n",
        "  def __init__(self, role, dept):\n",
        "      self.role = role\n",
        "      self.dept = dept\n",
        "\n",
        "\n",
        "class Teacher(Staff):\n",
        "\n",
        "  def __init__(self, name, age, salary):\n",
        "      super().__init__(dept = \"Science\", role = \"Teacher\")\n",
        "      self.name, self.age = name, age\n",
        "      self.__salary = salary\n",
        "\n",
        "  def show_details(self):\n",
        "    print(f\"Name:  {self.name}\")\n",
        "    print(f\"Age:  {self.age}\")\n",
        "    print(f\"Role:  {self.role}\")\n",
        "    print(f\"Department:  {self.dept}\")"
      ],
      "metadata": {
        "id": "XT6eGUzWo4aj"
      },
      "execution_count": 6,
      "outputs": []
    },
    {
      "cell_type": "code",
      "source": [
        "teacher = Teacher(\"Raj\", 45, 25000)\n",
        "\n",
        "print(teacher.name)   #Raj\n",
        "\n",
        "# access private member outside the class will throw error\n",
        "print(teacher.__salary)   #error"
      ],
      "metadata": {
        "colab": {
          "base_uri": "https://localhost:8080/",
          "height": 221
        },
        "id": "BS4sA6Qroav1",
        "outputId": "b41aaa14-c25d-413d-eb6c-a950b3375cd1"
      },
      "execution_count": 7,
      "outputs": [
        {
          "output_type": "stream",
          "name": "stdout",
          "text": [
            "Raj\n"
          ]
        },
        {
          "output_type": "error",
          "ename": "AttributeError",
          "evalue": "ignored",
          "traceback": [
            "\u001b[0;31m---------------------------------------------------------------------------\u001b[0m",
            "\u001b[0;31mAttributeError\u001b[0m                            Traceback (most recent call last)",
            "\u001b[0;32m<ipython-input-7-cadbf63c23f3>\u001b[0m in \u001b[0;36m<module>\u001b[0;34m()\u001b[0m\n\u001b[1;32m      4\u001b[0m \u001b[0;34m\u001b[0m\u001b[0m\n\u001b[1;32m      5\u001b[0m \u001b[0;31m# access private member outside the class will throw error\u001b[0m\u001b[0;34m\u001b[0m\u001b[0;34m\u001b[0m\u001b[0;34m\u001b[0m\u001b[0m\n\u001b[0;32m----> 6\u001b[0;31m \u001b[0mprint\u001b[0m\u001b[0;34m(\u001b[0m\u001b[0mteacher\u001b[0m\u001b[0;34m.\u001b[0m\u001b[0m__salary\u001b[0m\u001b[0;34m)\u001b[0m   \u001b[0;31m#error\u001b[0m\u001b[0;34m\u001b[0m\u001b[0;34m\u001b[0m\u001b[0m\n\u001b[0m",
            "\u001b[0;31mAttributeError\u001b[0m: 'Teacher' object has no attribute '__salary'"
          ]
        }
      ]
    },
    {
      "cell_type": "code",
      "source": [
        "teacher._Teacher__salary"
      ],
      "metadata": {
        "colab": {
          "base_uri": "https://localhost:8080/"
        },
        "id": "MBXNpGKiCAfA",
        "outputId": "a83eabe7-5fe1-4d2d-b0fe-0aee174ec75e"
      },
      "execution_count": 8,
      "outputs": [
        {
          "output_type": "execute_result",
          "data": {
            "text/plain": [
              "25000"
            ]
          },
          "metadata": {},
          "execution_count": 8
        }
      ]
    },
    {
      "cell_type": "code",
      "source": [
        "teacher.__dict__"
      ],
      "metadata": {
        "colab": {
          "base_uri": "https://localhost:8080/"
        },
        "id": "WzKYsxazCK6s",
        "outputId": "43c4f19f-5caa-46dd-fc1f-f9a009c85060"
      },
      "execution_count": 9,
      "outputs": [
        {
          "output_type": "execute_result",
          "data": {
            "text/plain": [
              "{'_Teacher__salary': 25000,\n",
              " 'age': 45,\n",
              " 'dept': 'Science',\n",
              " 'name': 'Raj',\n",
              " 'role': 'Teacher'}"
            ]
          },
          "metadata": {},
          "execution_count": 9
        }
      ]
    },
    {
      "cell_type": "markdown",
      "source": [
        "Task #4. \n",
        "\n",
        "Write a Python program that Orders the operator + and > for a custom class.\n",
        "\n",
        "Orders expect an argument items - list with some values"
      ],
      "metadata": {
        "id": "z0kWMiv7pISh"
      }
    },
    {
      "cell_type": "code",
      "source": [
        "# __gt__(self, other) - x > y вызывает x.__gt__(y).\n",
        "# __add__(self, other) - сложение. x + y вызывает x.__add__(y).\n",
        "\n",
        "\n",
        "class Orders:\n",
        "\n",
        "  def __init__(self, items):\n",
        "    self.items = items\n",
        "\n",
        "  def __gt__(self, other):\n",
        "    if isinstance(other, Orders):\n",
        "      return len(self.items) > len(other.items)\n",
        "    else:\n",
        "      raise TypeError(\"sdsddsd n\")\n",
        "\n"
      ],
      "metadata": {
        "id": "wx_1OUQepYSE"
      },
      "execution_count": 10,
      "outputs": []
    },
    {
      "cell_type": "code",
      "source": [
        "order1 = Orders([1, 2, 3, 4, 5, 6])\n",
        "\n",
        "order2 = Orders([10, 20, 30])\n",
        "\n",
        "#print(\"order1 + order2=\", order1 + order2)\n",
        "print(\"order1 > order2=\", order1 > order2)\n",
        "\n",
        "# order1 + order2 = Orders([1, 2, 3, 4, 5, 6, 10, 20, 30])\n",
        "# order1 > order2 = True"
      ],
      "metadata": {
        "colab": {
          "base_uri": "https://localhost:8080/"
        },
        "id": "oq7idCGcpiY3",
        "outputId": "907afcb2-dae8-428e-fcb7-425a75cc92ea"
      },
      "execution_count": 12,
      "outputs": [
        {
          "output_type": "stream",
          "name": "stdout",
          "text": [
            "order1 > order2= greater\n"
          ]
        }
      ]
    },
    {
      "cell_type": "markdown",
      "source": [
        "Task #5.\n",
        "\n",
        "Write a Program in Python to implement a Stack Data Structure using Class and Objects, with push, pop, and traversal method.\n",
        "\n",
        "* push - add element to the end\n",
        "* pop - get last element\n",
        "* traversal - print content of Stack\n",
        "\n"
      ],
      "metadata": {
        "id": "wSeEBT4ovbc6"
      }
    },
    {
      "cell_type": "code",
      "source": [
        "class Stack:\n",
        "\n",
        "  def __init__(self):\n",
        "    self.data = []\n",
        "\n",
        "\n",
        "  def push(self, object):\n",
        "    self.data.append(object)\n",
        "\n",
        "  def pop(self):\n",
        "    return self.data.pop()\n",
        "\n",
        "  def traversal(self):\n",
        "    for i in self.data[::-1]:\n",
        "        print(f\"| {i} |\")\n"
      ],
      "metadata": {
        "id": "7xlTC0MqvbvE"
      },
      "execution_count": 15,
      "outputs": []
    },
    {
      "cell_type": "code",
      "source": [
        "\n",
        "# initialize the object\n",
        "stack = Stack()\n",
        "\n",
        "# push item to the stack\n",
        "stack.push(1)\n",
        "stack.push(2)\n",
        "stack.push(3)\n",
        "stack.push(\"new\")\n",
        "stack.push(5)\n",
        "stack.push(6)\n",
        "stack.push(7)\n",
        "stack.push(8)\n",
        "stack.push(9)\n",
        "\n",
        "# pop items from the stack\n",
        "stack.pop()\n",
        "stack.pop()\n",
        "\n",
        "# traverse through the stack\n",
        "stack.traversal()\n",
        "\n",
        "# | 7 |\n",
        "# | 6 |\n",
        "# | 5 |\n",
        "# | 4 |\n",
        "# | 3 |\n",
        "# | 2 |\n",
        "# | 1 |"
      ],
      "metadata": {
        "colab": {
          "base_uri": "https://localhost:8080/"
        },
        "id": "lFql8XGfvb-P",
        "outputId": "5372341c-853f-4491-84f1-2a07e45d85ae"
      },
      "execution_count": 17,
      "outputs": [
        {
          "output_type": "stream",
          "name": "stdout",
          "text": [
            "| 7 |\n",
            "| 6 |\n",
            "| 5 |\n",
            "| new |\n",
            "| 3 |\n",
            "| 2 |\n",
            "| 1 |\n"
          ]
        }
      ]
    },
    {
      "cell_type": "markdown",
      "source": [
        "Task #6.\n",
        "\n",
        "Write a program that prints the class name using its object."
      ],
      "metadata": {
        "id": "7NtLwy8XwHoE"
      }
    },
    {
      "cell_type": "code",
      "source": [
        "stack.__class__.__name__"
      ],
      "metadata": {
        "colab": {
          "base_uri": "https://localhost:8080/",
          "height": 35
        },
        "id": "udW2KC_lwTEE",
        "outputId": "03ee404b-bf68-4f63-de57-21425ffbcec8"
      },
      "execution_count": 18,
      "outputs": [
        {
          "output_type": "execute_result",
          "data": {
            "text/plain": [
              "'Stack'"
            ],
            "application/vnd.google.colaboratory.intrinsic+json": {
              "type": "string"
            }
          },
          "metadata": {},
          "execution_count": 18
        }
      ]
    },
    {
      "cell_type": "code",
      "source": [
        ""
      ],
      "metadata": {
        "id": "_7wGugB2wTkr"
      },
      "execution_count": null,
      "outputs": []
    },
    {
      "cell_type": "markdown",
      "source": [
        "Task #7.\n",
        "\n",
        "Write a Python class named Circle constructed by a radius and two methods which will compute the area and the perimeter of a circle."
      ],
      "metadata": {
        "id": "_rajFVA3wkNf"
      }
    },
    {
      "cell_type": "code",
      "source": [
        "import math\n",
        "\n",
        "\n",
        "class Circle:\n",
        "\n",
        "  def __init__(self, radius, measure):\n",
        "\n",
        "    if not isinstance(radius, int) and not isinstance(radius, float):\n",
        "      raise TypeError(\"Type error\")\n",
        "\n",
        "    if radius <= 0:\n",
        "      raise ValueError(\"Value error\")\n",
        "\n",
        "    self.radius = radius\n",
        "    self.measure = measure\n",
        "\n",
        "  def s(self) -> tuple:\n",
        "    return math.pi * (self.radius ** 2), self.measure\n",
        "  \n",
        "  def p(self):\n",
        "    return 2 * math.pi * self.radius\n",
        "\n",
        "\n",
        "\n",
        "\n"
      ],
      "metadata": {
        "id": "wmerJbWkwmFn"
      },
      "execution_count": null,
      "outputs": []
    },
    {
      "cell_type": "markdown",
      "source": [
        "Task #8.\n",
        "\n",
        "Write the definition of a Point class. Objects from this class should have:\n",
        "\n",
        "\n",
        "*   a method show to display the coordinates of the point\n",
        "*   a method move to change these coordinates.\n",
        "*   a method dist that computes the distance between 2 points.\n",
        "\n",
        "\n",
        "Recap:\n",
        "\n",
        "$distance = \\sqrt{(x_{1} - x_{0})^2 + (y_{1} - y_{0})^2}$  \n"
      ],
      "metadata": {
        "id": "f1_V-2DXxR0L"
      }
    },
    {
      "cell_type": "code",
      "source": [
        "import math \n",
        "\n",
        "class Point:\n",
        "\n",
        "  def __init__(self, x, y):\n",
        "      self.x = x\n",
        "      self.y = y\n",
        "\n",
        "  def show(self):\n",
        "    print(f\"x = {self.x}, y = {self.y}\")\n",
        "    return self.x, self.y\n",
        "\n",
        "  def move(self, x, y):\n",
        "    # todo: add type checking\n",
        "    self.x += x\n",
        "    self.y += y\n",
        "\n",
        "  def dist(self, point):\n",
        "    # todo: add type checking\n",
        "    return math.sqrt((self.x - point.x) ** 2 + (self.y - point.y) ** 2)"
      ],
      "metadata": {
        "id": "PG3r1SZpymdI"
      },
      "execution_count": 43,
      "outputs": []
    },
    {
      "cell_type": "code",
      "source": [
        "p0 = Point(0, 0)\n",
        "p1 = Point(1, 1)\n",
        "p2 = Point(0, 1)\n",
        "\n",
        "print(p0.dist(p1))\n",
        "print(p0.dist(p2))"
      ],
      "metadata": {
        "colab": {
          "base_uri": "https://localhost:8080/"
        },
        "id": "7iQHNdM9aJKl",
        "outputId": "1c2249d5-b440-413d-dcb1-8fc5f340b111"
      },
      "execution_count": 21,
      "outputs": [
        {
          "output_type": "stream",
          "name": "stdout",
          "text": [
            "1.4142135623730951\n",
            "1.0\n"
          ]
        }
      ]
    },
    {
      "cell_type": "markdown",
      "source": [
        "Task #9.\n",
        "\n",
        "Write the definition of a Line class. For initialization it requiers two instances of class Point\n",
        "\n",
        " Objects from this class should have:\n",
        "\n",
        "\n",
        "*   a method equation to display the line equation\n",
        "*   a method is_belong to check if point belongs to the line \n",
        "\n"
      ],
      "metadata": {
        "id": "kEXgMTx2ypdC"
      }
    },
    {
      "cell_type": "code",
      "source": [
        "# ax + b = y"
      ],
      "metadata": {
        "id": "tPhRddLz1dfu"
      },
      "execution_count": 22,
      "outputs": []
    },
    {
      "cell_type": "code",
      "source": [
        "# 10x + 5 = y"
      ],
      "metadata": {
        "id": "SsIOQSMga-tt"
      },
      "execution_count": null,
      "outputs": []
    },
    {
      "cell_type": "code",
      "source": [
        "class Line:\n",
        "\n",
        "  def __init__(self, point_0, point_1):\n",
        "      self.point_0 = point_0\n",
        "      self.point_1 = point_1\n",
        "      self._equation = self.find_equ(point_0, point_1)\n",
        "\n",
        "  @property\n",
        "  def equation(self):\n",
        "      eq = f\"{self._equation[0]} * x + {self._equation[1]} = y\"\n",
        "      print(eq)\n",
        "      return eq\n",
        "    \n",
        "  def find_equ(self, point_0, point_1):\n",
        "    a = (point_1.y - point_0.y) / (point_1.x - point_0.x)\n",
        "    b = point_1.y - a * point_1.x\n",
        "    return a, b\n",
        "\n",
        "    "
      ],
      "metadata": {
        "id": "n3ei4ktXbJzv"
      },
      "execution_count": 29,
      "outputs": []
    },
    {
      "cell_type": "code",
      "source": [
        "p1 = Point(1, 1)\n",
        "p2 = Point(2, 2)"
      ],
      "metadata": {
        "id": "GMADTt3Lcxnp"
      },
      "execution_count": 44,
      "outputs": []
    },
    {
      "cell_type": "code",
      "source": [
        "l = Line(p1, p2)"
      ],
      "metadata": {
        "id": "ky9RVpS2dpu3"
      },
      "execution_count": 40,
      "outputs": []
    },
    {
      "cell_type": "code",
      "source": [
        "_ = l.equation"
      ],
      "metadata": {
        "colab": {
          "base_uri": "https://localhost:8080/"
        },
        "id": "KRlhxQeFcxCT",
        "outputId": "a4e5932b-6765-454c-d3f2-9887079139dd"
      },
      "execution_count": 41,
      "outputs": [
        {
          "output_type": "stream",
          "name": "stdout",
          "text": [
            "1.0 * x + 0.0 = y\n"
          ]
        }
      ]
    },
    {
      "cell_type": "code",
      "source": [
        ""
      ],
      "metadata": {
        "id": "jsjzNEdYdClX"
      },
      "execution_count": null,
      "outputs": []
    },
    {
      "cell_type": "markdown",
      "source": [
        "## Dataclasses\n",
        "\n",
        "Docs: https://docs.python.org/3/library/dataclasses.html"
      ],
      "metadata": {
        "id": "hofNZzC3dcyj"
      }
    },
    {
      "cell_type": "code",
      "source": [
        "print(p1, p2)"
      ],
      "metadata": {
        "colab": {
          "base_uri": "https://localhost:8080/"
        },
        "id": "kLj1wAuPdeyJ",
        "outputId": "e25434e4-8faa-4665-d16d-83e340a8a83f"
      },
      "execution_count": 47,
      "outputs": [
        {
          "output_type": "stream",
          "name": "stdout",
          "text": [
            "<__main__.Point object at 0x7f83a7bd6310> <__main__.Point object at 0x7f83a7bd6f50>\n"
          ]
        }
      ]
    },
    {
      "cell_type": "code",
      "source": [
        "from dataclasses import dataclass\n",
        "\n",
        "@dataclass\n",
        "class Point:\n",
        "\n",
        "  x: int\n",
        "  y: int\n",
        "  z: int = 0\n",
        "\n",
        "  def show(self):\n",
        "    print(f\"x = {self.x}, y = {self.y}\")\n",
        "    return self.x, self.y\n",
        "\n",
        "  def move(self, x, y):\n",
        "    # todo: add type checking\n",
        "    self.x += x\n",
        "    self.y += y\n",
        "\n",
        "  def dist(self, point):\n",
        "    # todo: add type checking\n",
        "    return math.sqrt((self.x - point.x) ** 2 + (self.y - point.y) ** 2)"
      ],
      "metadata": {
        "id": "toBOeDBgdrgN"
      },
      "execution_count": 48,
      "outputs": []
    },
    {
      "cell_type": "code",
      "source": [
        "p1 = Point(1, 1)\n",
        "p2 = Point(2, 2)"
      ],
      "metadata": {
        "id": "QQD--2Rgd-dn"
      },
      "execution_count": 49,
      "outputs": []
    },
    {
      "cell_type": "code",
      "source": [
        "p1, p2"
      ],
      "metadata": {
        "colab": {
          "base_uri": "https://localhost:8080/"
        },
        "id": "E8k7lomGeCA6",
        "outputId": "30858d5a-6542-44cd-865a-36330b6d7797"
      },
      "execution_count": 50,
      "outputs": [
        {
          "output_type": "execute_result",
          "data": {
            "text/plain": [
              "(Point(x=1, y=1, z=0), Point(x=2, y=2, z=0))"
            ]
          },
          "metadata": {},
          "execution_count": 50
        }
      ]
    },
    {
      "cell_type": "code",
      "source": [
        ""
      ],
      "metadata": {
        "id": "-k-GtF38eC-0"
      },
      "execution_count": null,
      "outputs": []
    }
  ]
}